{
 "cells": [
  {
   "cell_type": "code",
   "execution_count": 1,
   "metadata": {},
   "outputs": [
    {
     "data": {
      "text/html": [
       "<pre style=\"white-space:pre;overflow-x:auto;line-height:normal;font-family:Menlo,'DejaVu Sans Mono',consolas,'Courier New',monospace\">Manim Community <span style=\"color: #008000; text-decoration-color: #008000\">v0.16.0.post0</span>\n",
       "\n",
       "</pre>\n"
      ],
      "text/plain": [
       "Manim Community \u001b[32mv0.\u001b[0m\u001b[32m16.0\u001b[0m\u001b[32m.post0\u001b[0m\n",
       "\n"
      ]
     },
     "metadata": {},
     "output_type": "display_data"
    }
   ],
   "source": [
    "from manim import *\n",
    "config.media_width = \"60%\""
   ]
  },
  {
   "cell_type": "markdown",
   "metadata": {},
   "source": [
    "## 开场白"
   ]
  },
  {
   "cell_type": "code",
   "execution_count": 2,
   "metadata": {},
   "outputs": [
    {
     "name": "stderr",
     "output_type": "stream",
     "text": [
      "                                                                                                                                      \r"
     ]
    },
    {
     "data": {
      "text/html": [
       "<video src=\"media\\jupyter\\beginword@2022-12-03@22-41-15.mp4\" controls autoplay loop style=\"max-width: 60%;\"  >\n",
       "      Your browser does not support the <code>video</code> element.\n",
       "    </video>"
      ],
      "text/plain": [
       "<IPython.core.display.Video object>"
      ]
     },
     "metadata": {},
     "output_type": "display_data"
    }
   ],
   "source": [
    "%%manim -v WARNING -qh beginword\n",
    "class beginword(Scene):\n",
    "    def construct(self):\n",
    "\n",
    "        pi = ImageMobject(\"pi.png\")\n",
    "        pi_says = Text(\"我不是很喜欢谜题\",color=BLACK,font_size=22).move_to(1.7*RIGHT+2.2*UP)\n",
    "        words = ImageMobject(\"Bubbles_speech.png\").shift(1.5*UR)\n",
    "        \n",
    "        \n",
    "        # 开场白\n",
    "        begin1 = Text(\"又到了新年和圣诞，是时候把大家聚到一起做一些有意义的事情了...So\",font_size=30).to_edge(DOWN)\n",
    "        begin2 = Text(\"不妨来做一个有意思的谜题吧！\",font_size=30).to_edge(DOWN)\n",
    "\n",
    "        self.add(begin1,pi) \n",
    "        self.wait(3)\n",
    "        self.play(Transform(begin1,begin2),runtime=3)\n",
    "        self.wait()\n",
    "        self.play(FadeIn(words))\n",
    "        self.play(Write(pi_says))\n",
    "        self.wait()"
   ]
  },
  {
   "cell_type": "markdown",
   "metadata": {},
   "source": [
    "## 马克杯场景（包含填充）"
   ]
  },
  {
   "cell_type": "code",
   "execution_count": 2,
   "metadata": {},
   "outputs": [
    {
     "name": "stderr",
     "output_type": "stream",
     "text": [
      "                                                                                                              \r"
     ]
    },
    {
     "data": {
      "text/html": [
       "<video src=\"media\\jupyter\\markcup@2022-12-23@13-16-08.mp4\" controls autoplay loop style=\"max-width: 60%;\"  >\n",
       "      Your browser does not support the <code>video</code> element.\n",
       "    </video>"
      ],
      "text/plain": [
       "<IPython.core.display.Video object>"
      ]
     },
     "metadata": {},
     "output_type": "display_data"
    }
   ],
   "source": [
    "%%manim -v WARNING -qh markcup\n",
    "class markcup(ThreeDScene):\n",
    "    def construct(self):\n",
    "        #axes = ThreeDAxes()    \n",
    "        \n",
    "        #马克杯本体  \n",
    "        body1 = Cylinder(height=2.5,radius=1,show_ends=False)\n",
    "        handle = Torus(major_radius=0.7,minor_radius=0.25).shift(RIGHT)\n",
    "        handle.rotate(PI/2,axis=RIGHT)  \n",
    "        body2 = Cylinder(height=2.5,radius=1,show_ends=True)\n",
    "        body3 = Cylinder(height=2.3,radius=1,show_ends=True)\n",
    "\n",
    "        wholecup = VGroup(body2,handle)\n",
    "\n",
    "        self.set_camera_orientation(phi=70 * DEGREES, theta=270 * DEGREES)#，phi指的是仰角，方向指向屏幕外OUT。theta是指水平方向的角度，方向是逆时针方向。\n",
    "        self.begin_ambient_camera_rotation(rate=0.1)\n",
    "        self.add(body1,handle)\n",
    "        self.wait(2)\n",
    "        self.play(FadeIn(body2))\n",
    "        self.wait()\n",
    "        self.remove(body1)\n",
    "        #self.move_camera(phi=90 * DEGREES, theta= 270* DEGREES)\n",
    "        self.play(handle.animate.scale(1.1),ReplacementTransform(body2,body3))\n",
    "        self.play(Transform(body3,handle))\n",
    "        self.wait(2)\n",
    "        \n",
    "        "
   ]
  },
  {
   "cell_type": "markdown",
   "metadata": {},
   "source": [
    "## 为了方便叙述"
   ]
  },
  {
   "cell_type": "code",
   "execution_count": 5,
   "metadata": {},
   "outputs": [
    {
     "name": "stderr",
     "output_type": "stream",
     "text": [
      "                                                                                                                                              \r"
     ]
    },
    {
     "data": {
      "text/html": [
       "<video src=\"media\\jupyter\\introduce_p@2022-12-03@22-44-09.mp4\" controls autoplay loop style=\"max-width: 60%;\"  >\n",
       "      Your browser does not support the <code>video</code> element.\n",
       "    </video>"
      ],
      "text/plain": [
       "<IPython.core.display.Video object>"
      ]
     },
     "metadata": {},
     "output_type": "display_data"
    }
   ],
   "source": [
    "%%manim -v WARNING -qh introduce_p\n",
    "class introduce_p(Scene):\n",
    "    def construct(self):\n",
    "        #self.camera.background_color = \"#ece6e2\" (用来填充上色的，在这里没必要)\n",
    "        #数学组件\n",
    "        numberplane = NumberPlane()#坐标轴\n",
    "        room1 = Dot(numberplane.c2p(-3, 2),color=GREY_B)\n",
    "        room2 = Dot(numberplane.c2p(0, 2),color=GREY_B)\n",
    "        room3 = Dot(numberplane.c2p(3, 2),color=GREY_B)\n",
    "        rooms = VGroup(room1,room2,room3)\n",
    "\n",
    "        facility1 = Dot(numberplane.c2p(-3, -2),color=RED)\n",
    "        facility2 = Dot(numberplane.c2p(0, -2),color=YELLOW)\n",
    "        facility3 = Dot(numberplane.c2p(3, -2),color=BLUE)\n",
    "        facilityies = VGroup(facility1,facility2,facility3)\n",
    "\n",
    "        R1 = ImageMobject(\"room.png\").scale(0.3).move_to(room1)\n",
    "        R2 = ImageMobject(\"room.png\").scale(0.3).move_to(room2)\n",
    "        R3 = ImageMobject(\"room.png\").scale(0.3).move_to(room3)\n",
    "        fire = ImageMobject(\"fire.png\").scale(0.3).move_to(facility1)\n",
    "        eletronic = ImageMobject(\"eletronic.png\").scale(0.3).move_to(facility2)  \n",
    "        water = ImageMobject(\"water.png\").scale(0.3).move_to(facility3)\n",
    "\n",
    "        #字幕\n",
    "        sub1 = Text(\"为了方便叙述，我们将图案放到平面上来\",font_size=30).to_edge(DOWN)\n",
    "        sub2 = Text(\"现在有三个房子，和三个不同的设施，供气，供点和供水。\",font_size=30).to_edge(DOWN)\n",
    "        sub3 = Text(\"每个房子都要和三个设施相连，且任意两条线都不能相连\",font_size=30).to_edge(DOWN)\n",
    "        sub4 = Text(\"现在邀请你设计线路\",font_size=30).to_edge(DOWN)\n",
    "\n",
    "        self.add(sub1)\n",
    "        self.wait()\n",
    "        self.play(ReplacementTransform(sub1,sub2),runtime=3)\n",
    "        self.play(FadeIn(R1,R2,R3))\n",
    "        self.play(FadeIn(fire,eletronic,water))\n",
    "        self.wait()\n",
    "        self.play(ReplacementTransform(sub2,sub3),runtime=3)\n",
    "        self.wait()\n",
    "        self.play(ReplacementTransform(sub3,sub4),runtime=3)\n",
    "        self.wait()\n"
   ]
  },
  {
   "cell_type": "markdown",
   "metadata": {},
   "source": [
    "## 普通的思路绘图"
   ]
  },
  {
   "cell_type": "markdown",
   "metadata": {},
   "source": [
    "介于ManimCE版本对于SVG图片的用法实在是太奇怪，旧的bug解决又有新的bug，为此在图标部分只能用png图片平替，这样就牺牲了一定的动画效果。\n",
    "\n",
    "#pi = SVGMobject(file_name=\"C:/manim-master/assets/svg_images/PiCreatures_plain.svg\",color=BLUE,unpack_groups=True,fill_opacity=0.5,stroke_width=6) \n",
    "\n",
    "(可以用的svg图像，但是这个是在manim的包里挖掘出来的)"
   ]
  },
  {
   "cell_type": "markdown",
   "metadata": {},
   "source": [
    "画弯曲的线"
   ]
  },
  {
   "cell_type": "code",
   "execution_count": null,
   "metadata": {},
   "outputs": [
    {
     "name": "stderr",
     "output_type": "stream",
     "text": [
      "                                                                                      \r"
     ]
    },
    {
     "data": {
      "text/html": [
       "<video src=\"media\\jupyter\\room@2022-11-23@18-00-00.mp4\" controls autoplay loop style=\"max-width: 60%;\"  >\n",
       "      Your browser does not support the <code>video</code> element.\n",
       "    </video>"
      ],
      "text/plain": [
       "<IPython.core.display.Video object>"
      ]
     },
     "metadata": {},
     "output_type": "display_data"
    }
   ],
   "source": [
    "%%manim -v WARNING -qh room\n",
    "class room(Scene):\n",
    "    def construct(self):\n",
    "\n",
    "        #数学组件\n",
    "        numberplane = NumberPlane()#坐标轴\n",
    "        room1 = Dot(numberplane.c2p(-3, 2),color=GREY_B)\n",
    "        room2 = Dot(numberplane.c2p(0, 2),color=GREY_B)\n",
    "        room3 = Dot(numberplane.c2p(3, 2),color=GREY_B)\n",
    "        rooms = VGroup(room1,room2,room3)\n",
    "\n",
    "        facility1 = Dot(numberplane.c2p(-3, -2),color=RED)\n",
    "        facility2 = Dot(numberplane.c2p(0, -2),color=YELLOW)\n",
    "        facility3 = Dot(numberplane.c2p(3, -2),color=BLUE)\n",
    "        facilityies = VGroup(facility1,facility2,facility3)\n",
    "\n",
    "        R1 = ImageMobject(\"room.png\").scale(0.3).move_to(room1)\n",
    "        R2 = ImageMobject(\"room.png\").scale(0.3).move_to(room2)\n",
    "        R3 = ImageMobject(\"room.png\").scale(0.3).move_to(room3)\n",
    "        fire = ImageMobject(\"fire.png\").scale(0.3).move_to(facility1)\n",
    "        eletronic = ImageMobject(\"eletronic.png\").scale(0.3).move_to(facility2)  \n",
    "        water = ImageMobject(\"water.png\").scale(0.3).move_to(facility3)    \n",
    " \n",
    "        self.play(FadeIn(fire),FadeIn(eletronic),FadeIn(water),FadeIn(R1),FadeIn(R2),FadeIn(R3))\n",
    "\n",
    "        #正常的直线\n",
    "        line1 = Line(np.array([-3,-2,0]),np.array([-3,2,0]),color=RED,buff=0.6)\n",
    "        line2 = Line(np.array([0,-2,0]),np.array([-3,2,0]),color=YELLOW,buff=0.6)\n",
    "        line3 = Line(np.array([0,-2,0]),np.array([0,2,0]),color=YELLOW,buff=0.6)\n",
    "        line4 = Line(np.array([3,-2,0]),np.array([0,2,0]),color=BLUE,buff=0.6)\n",
    "        line5 = Line(np.array([3,-2,0]),np.array([3,2,0]),color=BLUE,buff=0.6)\n",
    "        self.add(line1,line2,line3,line4,line5)\n",
    "        #self.play(Create(line1),runtime=1)\n",
    "\n",
    "\n",
    "\n",
    "        #弯曲的线\n",
    "        c_line6 = Line(np.array([3,-2,0]),np.array([-3.2,2,0]),color=BLUE,buff=0.5,path_arc=-3.4)\n",
    "        self.add(c_line6)\n",
    "        c_line7 = Line(np.array([-3.2,-2.2,0]),np.array([-0.2,1.6,0]),color=RED,buff=0.5,path_arc=3.5)\n",
    "        self.add(c_line7)\n",
    "        c_line8 = Line(np.array([0.35,-1.6,0]),np.array([3,2,0]),color=YELLOW,buff=0.5,path_arc=-3.7)\n",
    "        self.add(c_line8)\n",
    "        #self.bring_to_back(numberplane,rooms,facilityies)\n",
    "        #self.play(Create(numberplane,run_time=3,lag_ratio=0.05),)\n",
    "        #self.add(rooms,facilityies)\n",
    "        self.wait(2)\n",
    "\n"
   ]
  },
  {
   "cell_type": "code",
   "execution_count": 5,
   "metadata": {},
   "outputs": [
    {
     "name": "stderr",
     "output_type": "stream",
     "text": [
      "                                                                                                                        \r"
     ]
    },
    {
     "data": {
      "text/html": [
       "<video src=\"media\\jupyter\\preview@2022-12-03@23-12-41.mp4\" controls autoplay loop style=\"max-width: 60%;\"  >\n",
       "      Your browser does not support the <code>video</code> element.\n",
       "    </video>"
      ],
      "text/plain": [
       "<IPython.core.display.Video object>"
      ]
     },
     "metadata": {},
     "output_type": "display_data"
    }
   ],
   "source": [
    "%%manim -v WARNING -qh preview\n",
    "class preview(Scene):\n",
    "    def construct(self):\n",
    "\n",
    "        #数学组件\n",
    "        numberplane = NumberPlane()#坐标轴\n",
    "        room1 = Dot(numberplane.c2p(-3, 2),color=GREY_B)\n",
    "        room2 = Dot(numberplane.c2p(0, 2),color=GREY_B)\n",
    "        room3 = Dot(numberplane.c2p(3, 2),color=GREY_B)\n",
    "        rooms = VGroup(room1,room2,room3)\n",
    "\n",
    "        facility1 = Dot(numberplane.c2p(-3, -2),color=RED)\n",
    "        facility2 = Dot(numberplane.c2p(0, -2),color=YELLOW)\n",
    "        facility3 = Dot(numberplane.c2p(3, -2),color=BLUE)\n",
    "        facilityies = VGroup(facility1,facility2,facility3)\n",
    "\n",
    "        R1 = ImageMobject(\"room.png\").scale(0.3).move_to(room1)\n",
    "        R2 = ImageMobject(\"room.png\").scale(0.3).move_to(room2)\n",
    "        R3 = ImageMobject(\"room.png\").scale(0.3).move_to(room3)\n",
    "        fire = ImageMobject(\"fire.png\").scale(0.3).move_to(facility1)\n",
    "        eletronic = ImageMobject(\"eletronic.png\").scale(0.3).move_to(facility2)  \n",
    "        water = ImageMobject(\"water.png\").scale(0.3).move_to(facility3)   \n",
    "\n",
    "        #self.add(numberplane) （添加坐标轴，在最终结果里面可以删除）\n",
    " \n",
    "        self.play(FadeIn(fire),FadeIn(eletronic),FadeIn(water),FadeIn(R1),FadeIn(R2),FadeIn(R3))\n",
    "        self.wait()\n",
    "\n",
    "        #正常的直线\n",
    "        line1 = Line(np.array([-3,-2,0]),np.array([-3,2,0]),color=RED,buff=0.6)\n",
    "        line2 = Line(np.array([0,-2,0]),np.array([-3,2,0]),color=YELLOW,buff=0.6)\n",
    "        line3 = Line(np.array([0,-2,0]),np.array([0,2,0]),color=YELLOW,buff=0.6)\n",
    "        line4 = Line(np.array([3,-2,0]),np.array([0,2,0]),color=BLUE,buff=0.6)\n",
    "        line5 = Line(np.array([3,-2,0]),np.array([3,2,0]),color=BLUE,buff=0.6)\n",
    "        \n",
    "        lines = VGroup(line1,line2,line3,line4,line5)\n",
    "\n",
    "\n",
    "        #弯曲的线\n",
    "        c_line6 = Line(np.array([3,-2,0]),np.array([-3.2,2,0]),color=BLUE,buff=0.5,path_arc=-3.4)\n",
    "        c_line7 = Line(np.array([-3.2,-2.2,0]),np.array([-0.2,1.6,0]),color=RED,buff=0.5,path_arc=3.5) \n",
    "        c_line8 = Line(np.array([0.35,-1.6,0]),np.array([3,2,0]),color=YELLOW,buff=0.5,path_arc=-3.7)\n",
    "        \n",
    "        c_lines = VGroup(c_line6,c_line7,c_line8)\n",
    "\n",
    "\n",
    "        #无法打开的门（用来演示线条无法穿过的效果）\n",
    "        d1 = Dot(fill_opacity=0).shift(3*LEFT+2*DOWN)\n",
    "        d2 = Dot(color=WHITE)#用来添加updater的对象是没提前移动或者设置位置的\n",
    "        l1=Line(d1.get_center(),d2.get_center())#.set_color(RED)(这里setcolor后后面更显时候的线条依然不是红色)\n",
    "        x=ValueTracker(0)\n",
    "        y=ValueTracker(0)\n",
    "        #给点加上updater\n",
    "        d2.add_updater(lambda z: z.set_x(x.get_value()))\n",
    "        d2.add_updater(lambda z: z.set_y(y.get_value()))\n",
    "\n",
    "        l1.add_updater(lambda z: z.become(Line(d1.get_center(),d2.get_center())))\n",
    "\n",
    "        x.set_value(-2),y.set_value(-1)#但是可以在后面再设置\n",
    "\n",
    "        #字幕\n",
    "        sub1 = Text (\"你可能会想，“这有什么难的！”\",font_size=30).to_edge(DOWN)\n",
    "        sub2 = Text (\"于是你开始尝试\",font_size=30).to_edge(DOWN)\n",
    "        sub3 = Text (\"但。。。你会发现，似乎永远有一条线被困住了\",font_size=30).to_edge(DOWN)\n",
    "\n",
    "        #动画部分\n",
    "        self.add(sub1)\n",
    "        self.wait()\n",
    "        self.play(ReplacementTransform(sub1,sub2),runtime=3)\n",
    "        self.play(Create(line1))\n",
    "        self.play(Create(line2))\n",
    "        self.play(Create(line3))\n",
    "        self.play(Create(line4))\n",
    "        self.play(Create(line5))\n",
    "        self.wait()\n",
    "\n",
    "        self.play(Create(c_line6))\n",
    "        self.play(Create(c_line7))\n",
    "        self.play(Create(c_line8))\n",
    "        self.add(d1,d2)\n",
    "        self.play(Create(l1))\n",
    "        l1.set_color(RED)\n",
    "\n",
    "        self.play(ReplacementTransform(sub2,sub3),runtime=3)\n",
    "\n",
    "        self.play(x.animate.set_value(-1.5),y.animate.set_value(-0.6),rate_func=there_and_back,run_time=1.5)\n",
    "        self.play(x.animate.set_value(-1.5),y.animate.set_value(-0.6),rate_func=there_and_back,run_time=1.5)\n",
    "        self.wait(2)"
   ]
  },
  {
   "cell_type": "markdown",
   "metadata": {},
   "source": [
    "## 锲而不舍的精神！"
   ]
  },
  {
   "cell_type": "code",
   "execution_count": 12,
   "metadata": {},
   "outputs": [
    {
     "name": "stderr",
     "output_type": "stream",
     "text": [
      "                                                                                                                                                \r"
     ]
    },
    {
     "data": {
      "text/html": [
       "<video src=\"media\\jupyter\\pi_angry@2022-12-15@14-44-38.mp4\" controls autoplay loop style=\"max-width: 60%;\"  >\n",
       "      Your browser does not support the <code>video</code> element.\n",
       "    </video>"
      ],
      "text/plain": [
       "<IPython.core.display.Video object>"
      ]
     },
     "metadata": {},
     "output_type": "display_data"
    }
   ],
   "source": [
    "%%manim -v WARNING -qh pi_angry\n",
    "\n",
    "class pi_angry(Scene):\n",
    "    def construct(self):\n",
    "        \n",
    "        sub1 = Text(\"但如果你有一种数学家的精神\",font_size=30).to_edge(DOWN)\n",
    "        sub2 = Text(\"哪怕题目看着很难，你也不会缴械投降\",font_size=30).to_edge(DOWN)\n",
    "        sub3 = Text(\"但是请记住，这是一个在马克杯上的图案，他是三维的问题\",font_size=30).to_edge(DOWN)\n",
    "        sub4 = Text(\"如果你想在平面上寻找答案，那结果一定不尽如人意\",font_size=30).to_edge(DOWN)\n",
    "\n",
    "        p = ImageMobject(\"pi_angry.png\").shift(5*LEFT)\n",
    "        p.scale(1.2)\n",
    "        words = ImageMobject(\"Bubbles_speech.png\").shift(4*LEFT+1.5*UR)\n",
    "        pi_say = Text(\"不就是连个线嘛！！\",color=BLACK,font_size=22).move_to(4*LEFT+1.7*RIGHT+2.2*UP)\n",
    "\n",
    "        \n",
    "        drawplace = ImageMobject(\"place.png\").shift(2*RIGHT)\n",
    "        drawplace.scale(0.7)\n",
    "        self.add(p,sub1)\n",
    "        self.play(FadeIn(drawplace))\n",
    "        self.wait()\n",
    "        self.play(ReplacementTransform(sub1,sub2),runtime=3)\n",
    "        self.wait()\n",
    "\n",
    "        self.play(FadeIn(words))\n",
    "        self.play(Write(pi_say))\n",
    "\n",
    "        self.play(ReplacementTransform(sub2,sub3),runtime=3)\n",
    "        self.wait()\n",
    "        self.play(ReplacementTransform(sub3,sub4),runtime=3)\n",
    "        self.wait()"
   ]
  },
  {
   "cell_type": "code",
   "execution_count": 13,
   "metadata": {},
   "outputs": [
    {
     "name": "stderr",
     "output_type": "stream",
     "text": [
      "                                                                                                                                        \r"
     ]
    },
    {
     "data": {
      "text/html": [
       "<video src=\"media\\jupyter\\Try@2022-12-15@14-45-15.mp4\" controls autoplay loop style=\"max-width: 60%;\"  >\n",
       "      Your browser does not support the <code>video</code> element.\n",
       "    </video>"
      ],
      "text/plain": [
       "<IPython.core.display.Video object>"
      ]
     },
     "metadata": {},
     "output_type": "display_data"
    }
   ],
   "source": [
    "%%manim -v WARNING -qh Try\n",
    "\n",
    "class Try(Scene):\n",
    "    def construct(self):\n",
    "        \n",
    "        sub1 = Text(\"你完全可以在自己的马克杯上尝试一下这个问题！\",font_size=30).to_edge(DOWN)\n",
    "        sub2 = Text(\"随手拿来手边的一个杯子，画上房子和设施\",font_size=30).to_edge(DOWN)\n",
    "\n",
    "        pi = ImageMobject(\"pi_thinking.png\").shift(4*LEFT)\n",
    "        pi.scale(1.2)\n",
    "        words = ImageMobject(\"Bubbles_speech.png\").shift(4*LEFT+1.5*UR)\n",
    "        pi_say = Text(\"Just give it a try!\",color=BLACK,font_size=22,font=\"Times New Roman\").move_to(4*LEFT+1.7*RIGHT+2.2*UP)\n",
    "\n",
    "        \n",
    "        tryphoto = ImageMobject(\"tryphoto.png\").shift(2*RIGHT)\n",
    "        tryphoto.scale(0.4)\n",
    "        self.add(pi,sub1)\n",
    "        self.play(FadeIn(tryphoto))\n",
    "        self.wait()\n",
    "        self.play(ReplacementTransform(sub1,sub2),runtime=3)\n",
    "        self.wait()\n",
    "\n",
    "        self.play(FadeIn(words))\n",
    "        self.play(Write(pi_say))\n",
    "        self.wait()\n",
    "        "
   ]
  },
  {
   "cell_type": "markdown",
   "metadata": {},
   "source": [
    "## 引入证明平面无解的场景"
   ]
  },
  {
   "cell_type": "code",
   "execution_count": 18,
   "metadata": {},
   "outputs": [
    {
     "name": "stderr",
     "output_type": "stream",
     "text": [
      "                                                                                                    \r"
     ]
    },
    {
     "data": {
      "text/html": [
       "<video src=\"media\\jupyter\\room@2022-12-15@15-05-58.mp4\" controls autoplay loop style=\"max-width: 60%;\"  >\n",
       "      Your browser does not support the <code>video</code> element.\n",
       "    </video>"
      ],
      "text/plain": [
       "<IPython.core.display.Video object>"
      ]
     },
     "metadata": {},
     "output_type": "display_data"
    }
   ],
   "source": [
    "%%manim -v WARNING -qh room\n",
    "class room(Scene):\n",
    "    def construct(self):\n",
    "        #字幕\n",
    "        sub1 = Text(\"既然我如此强调这张图是在马克杯上的，你或许会思考这个问题在纸面上真的有解吗？\",font_size=25).to_edge(DOWN)\n",
    "        self.add(sub1)\n",
    "        #数学组件\n",
    "        numberplane = NumberPlane()#坐标轴\n",
    "        room1 = Dot(numberplane.c2p(-3, 2),color=GREY_B)\n",
    "        room2 = Dot(numberplane.c2p(0, 2),color=GREY_B)\n",
    "        room3 = Dot(numberplane.c2p(3, 2),color=GREY_B)\n",
    "        rooms = VGroup(room1,room2,room3)\n",
    "\n",
    "        facility1 = Dot(numberplane.c2p(-3, -2),color=RED)\n",
    "        facility2 = Dot(numberplane.c2p(0, -2),color=YELLOW)\n",
    "        facility3 = Dot(numberplane.c2p(3, -2),color=BLUE)\n",
    "        facilityies = VGroup(facility1,facility2,facility3)\n",
    "\n",
    "        R1 = ImageMobject(\"room.png\").scale(0.3).move_to(room1)\n",
    "        R2 = ImageMobject(\"room.png\").scale(0.3).move_to(room2)\n",
    "        R3 = ImageMobject(\"room.png\").scale(0.3).move_to(room3)\n",
    "        fire = ImageMobject(\"fire.png\").scale(0.3).move_to(facility1)\n",
    "        eletronic = ImageMobject(\"eletronic.png\").scale(0.3).move_to(facility2)  \n",
    "        water = ImageMobject(\"water.png\").scale(0.3).move_to(facility3)    \n",
    " \n",
    "        self.play(FadeIn(fire),FadeIn(eletronic),FadeIn(water),FadeIn(R1),FadeIn(R2),FadeIn(R3))\n",
    "        self.wait()\n",
    "\n",
    "        #正常的直线\n",
    "        line1 = Line(np.array([-3,-2,0]),np.array([-3,2,0]),color=RED,buff=0.6)\n",
    "        line2 = Line(np.array([-3,-2,0]),np.array([0,2,0]),color=RED,buff=0.6)\n",
    "        line3 = Line(np.array([-3,-2,0]),np.array([3,2,0]),color=RED,buff=0.6)\n",
    "\n",
    "        line4 = Line(np.array([0,-2,0]),np.array([-3,2,0]),color=YELLOW,buff=0.6)\n",
    "        line5 = Line(np.array([0,-2,0]),np.array([0,2,0]),color=YELLOW,buff=0.6)\n",
    "        line6 = Line(np.array([0,-2,0]),np.array([3,2,0]),color=YELLOW,buff=0.6)\n",
    "\n",
    "        line7 = Line(np.array([3,-2,0]),np.array([-3,2,0]),color=BLUE,buff=0.6)\n",
    "        line8 = Line(np.array([3,-2,0]),np.array([0,2,0]),color=BLUE,buff=0.6)\n",
    "        line9 = Line(np.array([3,-2,0]),np.array([3,2,0]),color=BLUE,buff=0.6)\n",
    "\n",
    "        lines = VGroup(line1,line2,line3,line4,line5,line6,line7,line8,line9)\n",
    "\n",
    "        self.bring_to_back(lines)\n",
    "        self.play(Create(lines),lag_ratio=0.05)\n",
    "        self.wait()\n",
    "        self.bring_to_back(numberplane,rooms,facilityies)\n",
    "        self.play(Create(numberplane,run_time=3,lag_ratio=0.05),)\n",
    "        self.play(FadeOut(fire),FadeOut(eletronic),FadeOut(water),FadeOut(R1),FadeOut(R2),FadeOut(R3))\n",
    "        #将直线延长\n",
    "        self.play(line1.animate.set_points_by_ends(np.array([-3,-2,0]),np.array([-3,2,0])),\n",
    "        (line2.animate.set_points_by_ends(np.array([-3,-2,0]),np.array([0,2,0]))),\n",
    "        (line3.animate.set_points_by_ends(np.array([-3,-2,0]),np.array([3,2,0]))),\n",
    "\n",
    "        (line4.animate.set_points_by_ends(np.array([0,-2,0]),np.array([-3,2,0]))),\n",
    "        (line5.animate.set_points_by_ends(np.array([0,-2,0]),np.array([0,2,0]))),\n",
    "        (line6.animate.set_points_by_ends(np.array([0,-2,0]),np.array([3,2,0]))),\n",
    "\n",
    "        (line7.animate.set_points_by_ends(np.array([3,-2,0]),np.array([-3,2,0]))),\n",
    "        (line8.animate.set_points_by_ends(np.array([3,-2,0]),np.array([0,2,0]))),\n",
    "        (line9.animate.set_points_by_ends(np.array([3,-2,0]),np.array([3,2,0]))))\n",
    "        self.wait()\n",
    "\n",
    "        "
   ]
  },
  {
   "attachments": {},
   "cell_type": "markdown",
   "metadata": {},
   "source": [
    "## 转变思路"
   ]
  },
  {
   "cell_type": "code",
   "execution_count": 8,
   "metadata": {},
   "outputs": [
    {
     "name": "stderr",
     "output_type": "stream",
     "text": [
      "                                                                                                                                                \r"
     ]
    },
    {
     "data": {
      "text/html": [
       "<video src=\"media\\jupyter\\change@2022-12-18@10-43-35.mp4\" controls autoplay loop style=\"max-width: 60%;\"  >\n",
       "      Your browser does not support the <code>video</code> element.\n",
       "    </video>"
      ],
      "text/plain": [
       "<IPython.core.display.Video object>"
      ]
     },
     "metadata": {},
     "output_type": "display_data"
    }
   ],
   "source": [
    "%%manim -v WARNING -qh change\n",
    "\n",
    "class change(Scene):\n",
    "    def construct(self):\n",
    "        #字幕\n",
    "        sub1 = Text(\"实际上，这个问题在平面上确实是无解的\",font_size=30).to_edge(DOWN)\n",
    "        sub2 = Text(\"当然我并不会在视频中证明，那脱离了我们的主题\",font_size=30).to_edge(DOWN)\n",
    "        sub3 = Text(\"当死磕到底依旧无果时，不妨转变一下思路，尝试一下这个题目的变体\",font_size=30).to_edge(DOWN)\n",
    "        sub4 = Text(\"我想向你介绍，在拓扑学上如何看待这个问题\",font_size=30,t2c={\"拓扑学\":BLUE}).to_edge(DOWN)\n",
    "        #sub5 = Text(\"当死磕到底依旧无果时，不妨转变一下思路，尝试一下这个题目的变体\",font_size=30).to_edge(DOWN)\n",
    "\n",
    "        #pi酱\n",
    "        pi1 = ImageMobject(\"pi_puzzle.png\").shift(2*LEFT)\n",
    "        pi1.scale(1.2)\n",
    "        word1 = ImageMobject(\"Bubbles_speech.png\").move_to(1.5*UP+0.5*LEFT)\n",
    "        pi1_say = Text(\"什么拓扑学？\",color=BLACK,font_size=22).move_to(2.2*UP+0.5*LEFT)\n",
    "\n",
    "        pi2 = ImageMobject(\"pi_thinking2.png\").shift(2*RIGHT)\n",
    "        word2 = ImageMobject(\"Bubbles_speech.png\").move_to(4*RIGHT+1.5*UP+0.5*LEFT)\n",
    "        pi2_say = Text(\"是那个橡皮泥数学吗？\",color=BLACK,font_size=19).move_to(4.3*RIGHT+2.2*UP+0.5*LEFT)\n",
    "\n",
    "        self.add(sub1,pi1,pi2)\n",
    "        self.wait()\n",
    "        self.play(ReplacementTransform(sub1,sub2))\n",
    "        self.wait()\n",
    "        self.play(ReplacementTransform(sub2,sub3))\n",
    "        self.wait()\n",
    "        self.play(ReplacementTransform(sub3,sub4))\n",
    "        self.play(Indicate(sub4[8],color=BLUE),Indicate(sub4[9],color=BLUE),Indicate(sub4[10],color=BLUE))\n",
    "        self.play(FadeIn(word1),FadeIn(word2))\n",
    "        self.play(Write(pi1_say))\n",
    "        self.play(Write(pi2_say))\n",
    "        self.wait()\n",
    "\n"
   ]
  },
  {
   "attachments": {},
   "cell_type": "markdown",
   "metadata": {},
   "source": [
    "## 如何介绍马克杯等价与甜甜圈"
   ]
  },
  {
   "cell_type": "code",
   "execution_count": null,
   "metadata": {},
   "outputs": [],
   "source": [
    "%%manim -v WARNING -qh donut\n",
    "\n",
    "class donut(Scene):\n",
    "    def construct(self):\n",
    "        "
   ]
  },
  {
   "attachments": {},
   "cell_type": "markdown",
   "metadata": {},
   "source": [
    "## 甜甜圈上的的连线"
   ]
  },
  {
   "cell_type": "code",
   "execution_count": 83,
   "metadata": {},
   "outputs": [
    {
     "name": "stderr",
     "output_type": "stream",
     "text": [
      "                                                                                                  \r"
     ]
    },
    {
     "data": {
      "text/html": [
       "<video src=\"media\\jupyter\\donutline@2022-12-25@16-48-57.mp4\" controls autoplay loop style=\"max-width: 60%;\"  >\n",
       "      Your browser does not support the <code>video</code> element.\n",
       "    </video>"
      ],
      "text/plain": [
       "<IPython.core.display.Video object>"
      ]
     },
     "metadata": {},
     "output_type": "display_data"
    }
   ],
   "source": [
    "%%manim -v WARNING -qh donutline\n",
    "\n",
    "class donutline(ThreeDScene):\n",
    "    def construct(self):\n",
    "        axes = ThreeDAxes()\n",
    "        torus1 = Torus(major_radius=1,minor_radius=1,fill_color=PINK)\n",
    "        torus2 = Torus(major_radius=3,minor_radius=1,fill_color=PINK)\n",
    "        \n",
    "        dot1 = Dot3D(point=[4.2, 2.2, 1.25],color=GRAY)\n",
    "        dot2 = Dot3D(point=[4, 4, 1.6],color=GRAY)\n",
    "        dot3 = Dot3D(point=[3, 5, 1.65],color=GRAY)\n",
    "        fac1 = Dot3D(point=[4.2, 2.2, 0.25],color=RED)\n",
    "        \n",
    "        line = Line3D(start=np.array([4.2, 2.2, 1.25]), end=np.array([4.2, 2.2, 0.25]))\n",
    "        lu = TracedPath(fac1.get_center,stroke_color=RED)\n",
    "\n",
    "        #设置相机的视角\n",
    "        self.set_camera_orientation(phi=70 * DEGREES, theta=45 * DEGREES)\n",
    "      \n",
    "        self.add(axes)\n",
    "        self.add(dot1)\n",
    "        self.add(fac1)\n",
    "        self.add(lu)\n",
    "        self.play(Transform(fac1,dot1,path_func=utils.paths.counterclockwise_path(),run_time=3))\n",
    "        \n",
    "        #self.play(Create(torus1),runtime=5)\n",
    "        #self.play(Transform(torus1,torus2))\n",
    "        #self.wait(2)\n",
    "        "
   ]
  },
  {
   "cell_type": "markdown",
   "metadata": {},
   "source": [
    "## 想给马克杯上色的图片"
   ]
  },
  {
   "cell_type": "code",
   "execution_count": 6,
   "metadata": {},
   "outputs": [
    {
     "data": {
      "image/png": "[encoded data removed]",
      "text/plain": [
       "<IPython.core.display.Image object>"
      ]
     },
     "metadata": {},
     "output_type": "display_data"
    }
   ],
   "source": [
    "%%manim -v WARNING -qh printphoto\n",
    "class printphoto(Scene):\n",
    "    def construct(self):\n",
    "        self.camera.background_color = \"#ece6e2\"\n",
    "        #数学组件\n",
    "        numberplane = NumberPlane()#坐标轴\n",
    "        room1 = Dot(numberplane.c2p(-3, 2),color=GREY_B)\n",
    "        room2 = Dot(numberplane.c2p(0, 2),color=GREY_B)\n",
    "        room3 = Dot(numberplane.c2p(3, 2),color=GREY_B)\n",
    "        rooms = VGroup(room1,room2,room3)\n",
    "\n",
    "        facility1 = Dot(numberplane.c2p(-3, -2),color=RED)\n",
    "        facility2 = Dot(numberplane.c2p(0, -2),color=YELLOW)\n",
    "        facility3 = Dot(numberplane.c2p(3, -2),color=BLUE)\n",
    "        facilityies = VGroup(facility1,facility2,facility3)\n",
    "\n",
    "        R1 = ImageMobject(\"room.png\").scale(0.3).move_to(room1)\n",
    "        R2 = ImageMobject(\"room.png\").scale(0.3).move_to(room2)\n",
    "        R3 = ImageMobject(\"room.png\").scale(0.3).move_to(room3)\n",
    "        fire = ImageMobject(\"fire.png\").scale(0.3).move_to(facility1)\n",
    "        eletronic = ImageMobject(\"eletronic.png\").scale(0.3).move_to(facility2)  \n",
    "        water = ImageMobject(\"water.png\").scale(0.3).move_to(facility3)  \n",
    "\n",
    "        self.add(R1,R2,R3,fire,eletronic,water)"
   ]
  }
 ],
 "metadata": {
  "kernelspec": {
   "display_name": "Python 3.10.2 64-bit",
   "language": "python",
   "name": "python3"
  },
  "language_info": {
   "codemirror_mode": {
    "name": "ipython",
    "version": 3
   },
   "file_extension": ".py",
   "mimetype": "text/x-python",
   "name": "python",
   "nbconvert_exporter": "python",
   "pygments_lexer": "ipython3",
   "version": "3.10.2"
  },
  "orig_nbformat": 4,
  "vscode": {
   "interpreter": {
    "hash": "b1e552426e868d61e70d793ad72fed9818c6e53ecfa9aa5533f0e611e179c6a7"
   }
  }
 },
 "nbformat": 4,
 "nbformat_minor": 2
}
